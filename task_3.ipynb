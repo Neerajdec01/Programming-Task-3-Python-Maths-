{
  "nbformat": 4,
  "nbformat_minor": 0,
  "metadata": {
    "colab": {
      "provenance": []
    },
    "kernelspec": {
      "name": "python3",
      "display_name": "Python 3"
    },
    "language_info": {
      "name": "python"
    }
  },
  "cells": [
    {
      "cell_type": "code",
      "execution_count": null,
      "metadata": {
        "colab": {
          "base_uri": "https://localhost:8080/"
        },
        "id": "_uS0WrAlKDBI",
        "outputId": "62dd74ad-11f4-4049-9a39-be374aefa553"
      },
      "outputs": [
        {
          "output_type": "stream",
          "name": "stdout",
          "text": [
            "10\n",
            "10\n",
            "45°\n"
          ]
        }
      ],
      "source": [
        "# 1st problem\n",
        "\n",
        "from math import degrees, atan2\n",
        "\n",
        "AB = float(input())\n",
        "BC = float(input())\n",
        "\n",
        "MBC = round(degrees(atan2(AB, BC)))\n",
        "print((str(MBC)), chr(176), sep='')"
      ]
    },
    {
      "cell_type": "code",
      "source": [
        "# 2nd problem\n",
        "\n",
        "for i in range(1,int(input())+1): #More than 2 lines will result in 0 score. Do not leave a blank line also\n",
        "    print(((10**i - 1)//9)**2) "
      ],
      "metadata": {
        "colab": {
          "base_uri": "https://localhost:8080/"
        },
        "id": "2djS7SvkKT3t",
        "outputId": "be83cd2b-2c6a-4888-f2d4-1bfb0d7ddf81"
      },
      "execution_count": null,
      "outputs": [
        {
          "output_type": "stream",
          "name": "stdout",
          "text": [
            "5\n",
            "1\n",
            "121\n",
            "12321\n",
            "1234321\n",
            "123454321\n"
          ]
        }
      ]
    },
    {
      "cell_type": "code",
      "source": [
        "# 3rd problem\n",
        "\n",
        "print('{0}\\n{1}\\n({0}, {1})'.format(*divmod(int(input()), int(input()))))"
      ],
      "metadata": {
        "colab": {
          "base_uri": "https://localhost:8080/"
        },
        "id": "aMNRRzocyni6",
        "outputId": "38ee35d5-e37d-4c5e-fb94-5b2f7cd454ca"
      },
      "execution_count": 1,
      "outputs": [
        {
          "output_type": "stream",
          "name": "stdout",
          "text": [
            "177\n",
            "10\n",
            "17\n",
            "7\n",
            "(17, 7)\n"
          ]
        }
      ]
    },
    {
      "cell_type": "code",
      "source": [
        "# 4th problem \n",
        "\n",
        "a,b,m = [int(input()) for _ in '123']\n",
        "print(pow(a,b),pow(a,b,m),sep='\\n')"
      ],
      "metadata": {
        "colab": {
          "base_uri": "https://localhost:8080/"
        },
        "id": "BYlmFQoRy9gn",
        "outputId": "9bab49df-34ed-40c8-e13f-1fbe8e3b5e8d"
      },
      "execution_count": 2,
      "outputs": [
        {
          "output_type": "stream",
          "name": "stdout",
          "text": [
            "3\n",
            "4\n",
            "5\n",
            "81\n",
            "1\n"
          ]
        }
      ]
    },
    {
      "cell_type": "code",
      "source": [
        "# 5th problem\n",
        "\n",
        "\n",
        "a,b,c,d = (int(input()) for _ in range(4))\n",
        "print (pow(a,b)+pow(c,d))\n"
      ],
      "metadata": {
        "colab": {
          "base_uri": "https://localhost:8080/"
        },
        "id": "MvRdmW7Xy-No",
        "outputId": "10090f11-f0df-492f-e57e-5e839210c9d8"
      },
      "execution_count": 1,
      "outputs": [
        {
          "output_type": "stream",
          "name": "stdout",
          "text": [
            "9\n",
            "29\n",
            "7\n",
            "27\n",
            "4710194409608608369201743232\n"
          ]
        }
      ]
    },
    {
      "cell_type": "code",
      "source": [
        "# 6th problem\n",
        "\n",
        "for i in range(1,int(input())): #More than 2 lines will result in 0 score. Do not leave a blank line also\n",
        "   print((pow(10,i)//9)*i)\n"
      ],
      "metadata": {
        "colab": {
          "base_uri": "https://localhost:8080/"
        },
        "id": "DuWcqIYEy-Zb",
        "outputId": "507667e3-823d-423d-eba6-649a5d505b2d"
      },
      "execution_count": 2,
      "outputs": [
        {
          "output_type": "stream",
          "name": "stdout",
          "text": [
            "5\n",
            "1\n",
            "22\n",
            "333\n",
            "4444\n"
          ]
        }
      ]
    }
  ]
}